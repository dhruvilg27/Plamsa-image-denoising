{
  "nbformat": 4,
  "nbformat_minor": 0,
  "metadata": {
    "colab": {
      "provenance": []
    },
    "kernelspec": {
      "name": "python3",
      "display_name": "Python 3"
    },
    "language_info": {
      "name": "python"
    },
    "accelerator": "GPU",
    "gpuClass": "standard",
    "widgets": {
      "application/vnd.jupyter.widget-state+json": {
        "fd03bb11a5cd45e78ffcba4271bd781f": {
          "model_module": "@jupyter-widgets/controls",
          "model_name": "HBoxModel",
          "model_module_version": "1.5.0",
          "state": {
            "_dom_classes": [],
            "_model_module": "@jupyter-widgets/controls",
            "_model_module_version": "1.5.0",
            "_model_name": "HBoxModel",
            "_view_count": null,
            "_view_module": "@jupyter-widgets/controls",
            "_view_module_version": "1.5.0",
            "_view_name": "HBoxView",
            "box_style": "",
            "children": [
              "IPY_MODEL_936da8b0346e463bab164b25d7437076",
              "IPY_MODEL_6b8da98b3428404f96db2d89ec4fd91f",
              "IPY_MODEL_2a0934fd8fbc4d1683417c588d40ab58"
            ],
            "layout": "IPY_MODEL_668aa87487944cfeb502504e97a0a924"
          }
        },
        "936da8b0346e463bab164b25d7437076": {
          "model_module": "@jupyter-widgets/controls",
          "model_name": "HTMLModel",
          "model_module_version": "1.5.0",
          "state": {
            "_dom_classes": [],
            "_model_module": "@jupyter-widgets/controls",
            "_model_module_version": "1.5.0",
            "_model_name": "HTMLModel",
            "_view_count": null,
            "_view_module": "@jupyter-widgets/controls",
            "_view_module_version": "1.5.0",
            "_view_name": "HTMLView",
            "description": "",
            "description_tooltip": null,
            "layout": "IPY_MODEL_bb871cb44d6e4339ad6bee67ba7e1d8e",
            "placeholder": "​",
            "style": "IPY_MODEL_bb975b7120104a2689c41d3cdfabc931",
            "value": "100%"
          }
        },
        "6b8da98b3428404f96db2d89ec4fd91f": {
          "model_module": "@jupyter-widgets/controls",
          "model_name": "FloatProgressModel",
          "model_module_version": "1.5.0",
          "state": {
            "_dom_classes": [],
            "_model_module": "@jupyter-widgets/controls",
            "_model_module_version": "1.5.0",
            "_model_name": "FloatProgressModel",
            "_view_count": null,
            "_view_module": "@jupyter-widgets/controls",
            "_view_module_version": "1.5.0",
            "_view_name": "ProgressView",
            "bar_style": "success",
            "description": "",
            "description_tooltip": null,
            "layout": "IPY_MODEL_ece68fb61d814afe8271463490ba5b39",
            "max": 50,
            "min": 0,
            "orientation": "horizontal",
            "style": "IPY_MODEL_c4b539d638014d999fdd250979e9d87a",
            "value": 50
          }
        },
        "2a0934fd8fbc4d1683417c588d40ab58": {
          "model_module": "@jupyter-widgets/controls",
          "model_name": "HTMLModel",
          "model_module_version": "1.5.0",
          "state": {
            "_dom_classes": [],
            "_model_module": "@jupyter-widgets/controls",
            "_model_module_version": "1.5.0",
            "_model_name": "HTMLModel",
            "_view_count": null,
            "_view_module": "@jupyter-widgets/controls",
            "_view_module_version": "1.5.0",
            "_view_name": "HTMLView",
            "description": "",
            "description_tooltip": null,
            "layout": "IPY_MODEL_e456a75dc136474c904f8992e86aa7e6",
            "placeholder": "​",
            "style": "IPY_MODEL_9d5efb072a7d4b0d8dc0551a9752508c",
            "value": " 50/50 [00:17&lt;00:00,  2.98it/s]"
          }
        },
        "668aa87487944cfeb502504e97a0a924": {
          "model_module": "@jupyter-widgets/base",
          "model_name": "LayoutModel",
          "model_module_version": "1.2.0",
          "state": {
            "_model_module": "@jupyter-widgets/base",
            "_model_module_version": "1.2.0",
            "_model_name": "LayoutModel",
            "_view_count": null,
            "_view_module": "@jupyter-widgets/base",
            "_view_module_version": "1.2.0",
            "_view_name": "LayoutView",
            "align_content": null,
            "align_items": null,
            "align_self": null,
            "border": null,
            "bottom": null,
            "display": null,
            "flex": null,
            "flex_flow": null,
            "grid_area": null,
            "grid_auto_columns": null,
            "grid_auto_flow": null,
            "grid_auto_rows": null,
            "grid_column": null,
            "grid_gap": null,
            "grid_row": null,
            "grid_template_areas": null,
            "grid_template_columns": null,
            "grid_template_rows": null,
            "height": null,
            "justify_content": null,
            "justify_items": null,
            "left": null,
            "margin": null,
            "max_height": null,
            "max_width": null,
            "min_height": null,
            "min_width": null,
            "object_fit": null,
            "object_position": null,
            "order": null,
            "overflow": null,
            "overflow_x": null,
            "overflow_y": null,
            "padding": null,
            "right": null,
            "top": null,
            "visibility": null,
            "width": null
          }
        },
        "bb871cb44d6e4339ad6bee67ba7e1d8e": {
          "model_module": "@jupyter-widgets/base",
          "model_name": "LayoutModel",
          "model_module_version": "1.2.0",
          "state": {
            "_model_module": "@jupyter-widgets/base",
            "_model_module_version": "1.2.0",
            "_model_name": "LayoutModel",
            "_view_count": null,
            "_view_module": "@jupyter-widgets/base",
            "_view_module_version": "1.2.0",
            "_view_name": "LayoutView",
            "align_content": null,
            "align_items": null,
            "align_self": null,
            "border": null,
            "bottom": null,
            "display": null,
            "flex": null,
            "flex_flow": null,
            "grid_area": null,
            "grid_auto_columns": null,
            "grid_auto_flow": null,
            "grid_auto_rows": null,
            "grid_column": null,
            "grid_gap": null,
            "grid_row": null,
            "grid_template_areas": null,
            "grid_template_columns": null,
            "grid_template_rows": null,
            "height": null,
            "justify_content": null,
            "justify_items": null,
            "left": null,
            "margin": null,
            "max_height": null,
            "max_width": null,
            "min_height": null,
            "min_width": null,
            "object_fit": null,
            "object_position": null,
            "order": null,
            "overflow": null,
            "overflow_x": null,
            "overflow_y": null,
            "padding": null,
            "right": null,
            "top": null,
            "visibility": null,
            "width": null
          }
        },
        "bb975b7120104a2689c41d3cdfabc931": {
          "model_module": "@jupyter-widgets/controls",
          "model_name": "DescriptionStyleModel",
          "model_module_version": "1.5.0",
          "state": {
            "_model_module": "@jupyter-widgets/controls",
            "_model_module_version": "1.5.0",
            "_model_name": "DescriptionStyleModel",
            "_view_count": null,
            "_view_module": "@jupyter-widgets/base",
            "_view_module_version": "1.2.0",
            "_view_name": "StyleView",
            "description_width": ""
          }
        },
        "ece68fb61d814afe8271463490ba5b39": {
          "model_module": "@jupyter-widgets/base",
          "model_name": "LayoutModel",
          "model_module_version": "1.2.0",
          "state": {
            "_model_module": "@jupyter-widgets/base",
            "_model_module_version": "1.2.0",
            "_model_name": "LayoutModel",
            "_view_count": null,
            "_view_module": "@jupyter-widgets/base",
            "_view_module_version": "1.2.0",
            "_view_name": "LayoutView",
            "align_content": null,
            "align_items": null,
            "align_self": null,
            "border": null,
            "bottom": null,
            "display": null,
            "flex": null,
            "flex_flow": null,
            "grid_area": null,
            "grid_auto_columns": null,
            "grid_auto_flow": null,
            "grid_auto_rows": null,
            "grid_column": null,
            "grid_gap": null,
            "grid_row": null,
            "grid_template_areas": null,
            "grid_template_columns": null,
            "grid_template_rows": null,
            "height": null,
            "justify_content": null,
            "justify_items": null,
            "left": null,
            "margin": null,
            "max_height": null,
            "max_width": null,
            "min_height": null,
            "min_width": null,
            "object_fit": null,
            "object_position": null,
            "order": null,
            "overflow": null,
            "overflow_x": null,
            "overflow_y": null,
            "padding": null,
            "right": null,
            "top": null,
            "visibility": null,
            "width": null
          }
        },
        "c4b539d638014d999fdd250979e9d87a": {
          "model_module": "@jupyter-widgets/controls",
          "model_name": "ProgressStyleModel",
          "model_module_version": "1.5.0",
          "state": {
            "_model_module": "@jupyter-widgets/controls",
            "_model_module_version": "1.5.0",
            "_model_name": "ProgressStyleModel",
            "_view_count": null,
            "_view_module": "@jupyter-widgets/base",
            "_view_module_version": "1.2.0",
            "_view_name": "StyleView",
            "bar_color": null,
            "description_width": ""
          }
        },
        "e456a75dc136474c904f8992e86aa7e6": {
          "model_module": "@jupyter-widgets/base",
          "model_name": "LayoutModel",
          "model_module_version": "1.2.0",
          "state": {
            "_model_module": "@jupyter-widgets/base",
            "_model_module_version": "1.2.0",
            "_model_name": "LayoutModel",
            "_view_count": null,
            "_view_module": "@jupyter-widgets/base",
            "_view_module_version": "1.2.0",
            "_view_name": "LayoutView",
            "align_content": null,
            "align_items": null,
            "align_self": null,
            "border": null,
            "bottom": null,
            "display": null,
            "flex": null,
            "flex_flow": null,
            "grid_area": null,
            "grid_auto_columns": null,
            "grid_auto_flow": null,
            "grid_auto_rows": null,
            "grid_column": null,
            "grid_gap": null,
            "grid_row": null,
            "grid_template_areas": null,
            "grid_template_columns": null,
            "grid_template_rows": null,
            "height": null,
            "justify_content": null,
            "justify_items": null,
            "left": null,
            "margin": null,
            "max_height": null,
            "max_width": null,
            "min_height": null,
            "min_width": null,
            "object_fit": null,
            "object_position": null,
            "order": null,
            "overflow": null,
            "overflow_x": null,
            "overflow_y": null,
            "padding": null,
            "right": null,
            "top": null,
            "visibility": null,
            "width": null
          }
        },
        "9d5efb072a7d4b0d8dc0551a9752508c": {
          "model_module": "@jupyter-widgets/controls",
          "model_name": "DescriptionStyleModel",
          "model_module_version": "1.5.0",
          "state": {
            "_model_module": "@jupyter-widgets/controls",
            "_model_module_version": "1.5.0",
            "_model_name": "DescriptionStyleModel",
            "_view_count": null,
            "_view_module": "@jupyter-widgets/base",
            "_view_module_version": "1.2.0",
            "_view_name": "StyleView",
            "description_width": ""
          }
        },
        "bd3d605e6d89436d82c981b76beb0e43": {
          "model_module": "@jupyter-widgets/controls",
          "model_name": "HBoxModel",
          "model_module_version": "1.5.0",
          "state": {
            "_dom_classes": [],
            "_model_module": "@jupyter-widgets/controls",
            "_model_module_version": "1.5.0",
            "_model_name": "HBoxModel",
            "_view_count": null,
            "_view_module": "@jupyter-widgets/controls",
            "_view_module_version": "1.5.0",
            "_view_name": "HBoxView",
            "box_style": "",
            "children": [
              "IPY_MODEL_ef166c62a394404db13c0a8835a467f1",
              "IPY_MODEL_24c2e4bdd62d4093ac07985ea75e43b1",
              "IPY_MODEL_b364c854ce2c47c0b9cff2d8c4dab161"
            ],
            "layout": "IPY_MODEL_f9154780e8044373b2c5e24fd7e20752"
          }
        },
        "ef166c62a394404db13c0a8835a467f1": {
          "model_module": "@jupyter-widgets/controls",
          "model_name": "HTMLModel",
          "model_module_version": "1.5.0",
          "state": {
            "_dom_classes": [],
            "_model_module": "@jupyter-widgets/controls",
            "_model_module_version": "1.5.0",
            "_model_name": "HTMLModel",
            "_view_count": null,
            "_view_module": "@jupyter-widgets/controls",
            "_view_module_version": "1.5.0",
            "_view_name": "HTMLView",
            "description": "",
            "description_tooltip": null,
            "layout": "IPY_MODEL_99819d588d4a4915946386574e704e80",
            "placeholder": "​",
            "style": "IPY_MODEL_5135f91fe65341ee8ffd357a3fc52f84",
            "value": "100%"
          }
        },
        "24c2e4bdd62d4093ac07985ea75e43b1": {
          "model_module": "@jupyter-widgets/controls",
          "model_name": "FloatProgressModel",
          "model_module_version": "1.5.0",
          "state": {
            "_dom_classes": [],
            "_model_module": "@jupyter-widgets/controls",
            "_model_module_version": "1.5.0",
            "_model_name": "FloatProgressModel",
            "_view_count": null,
            "_view_module": "@jupyter-widgets/controls",
            "_view_module_version": "1.5.0",
            "_view_name": "ProgressView",
            "bar_style": "success",
            "description": "",
            "description_tooltip": null,
            "layout": "IPY_MODEL_b017f38bc02b41b09ad52d8bec31bc50",
            "max": 10,
            "min": 0,
            "orientation": "horizontal",
            "style": "IPY_MODEL_eaff181d70b64b50aace5234c7a0eb56",
            "value": 10
          }
        },
        "b364c854ce2c47c0b9cff2d8c4dab161": {
          "model_module": "@jupyter-widgets/controls",
          "model_name": "HTMLModel",
          "model_module_version": "1.5.0",
          "state": {
            "_dom_classes": [],
            "_model_module": "@jupyter-widgets/controls",
            "_model_module_version": "1.5.0",
            "_model_name": "HTMLModel",
            "_view_count": null,
            "_view_module": "@jupyter-widgets/controls",
            "_view_module_version": "1.5.0",
            "_view_name": "HTMLView",
            "description": "",
            "description_tooltip": null,
            "layout": "IPY_MODEL_6950b2c4f6de453d82777c7c514ccf23",
            "placeholder": "​",
            "style": "IPY_MODEL_d7b39533d31c4f8c8de834398cb60ab5",
            "value": " 10/10 [00:02&lt;00:00,  3.19it/s]"
          }
        },
        "f9154780e8044373b2c5e24fd7e20752": {
          "model_module": "@jupyter-widgets/base",
          "model_name": "LayoutModel",
          "model_module_version": "1.2.0",
          "state": {
            "_model_module": "@jupyter-widgets/base",
            "_model_module_version": "1.2.0",
            "_model_name": "LayoutModel",
            "_view_count": null,
            "_view_module": "@jupyter-widgets/base",
            "_view_module_version": "1.2.0",
            "_view_name": "LayoutView",
            "align_content": null,
            "align_items": null,
            "align_self": null,
            "border": null,
            "bottom": null,
            "display": null,
            "flex": null,
            "flex_flow": null,
            "grid_area": null,
            "grid_auto_columns": null,
            "grid_auto_flow": null,
            "grid_auto_rows": null,
            "grid_column": null,
            "grid_gap": null,
            "grid_row": null,
            "grid_template_areas": null,
            "grid_template_columns": null,
            "grid_template_rows": null,
            "height": null,
            "justify_content": null,
            "justify_items": null,
            "left": null,
            "margin": null,
            "max_height": null,
            "max_width": null,
            "min_height": null,
            "min_width": null,
            "object_fit": null,
            "object_position": null,
            "order": null,
            "overflow": null,
            "overflow_x": null,
            "overflow_y": null,
            "padding": null,
            "right": null,
            "top": null,
            "visibility": null,
            "width": null
          }
        },
        "99819d588d4a4915946386574e704e80": {
          "model_module": "@jupyter-widgets/base",
          "model_name": "LayoutModel",
          "model_module_version": "1.2.0",
          "state": {
            "_model_module": "@jupyter-widgets/base",
            "_model_module_version": "1.2.0",
            "_model_name": "LayoutModel",
            "_view_count": null,
            "_view_module": "@jupyter-widgets/base",
            "_view_module_version": "1.2.0",
            "_view_name": "LayoutView",
            "align_content": null,
            "align_items": null,
            "align_self": null,
            "border": null,
            "bottom": null,
            "display": null,
            "flex": null,
            "flex_flow": null,
            "grid_area": null,
            "grid_auto_columns": null,
            "grid_auto_flow": null,
            "grid_auto_rows": null,
            "grid_column": null,
            "grid_gap": null,
            "grid_row": null,
            "grid_template_areas": null,
            "grid_template_columns": null,
            "grid_template_rows": null,
            "height": null,
            "justify_content": null,
            "justify_items": null,
            "left": null,
            "margin": null,
            "max_height": null,
            "max_width": null,
            "min_height": null,
            "min_width": null,
            "object_fit": null,
            "object_position": null,
            "order": null,
            "overflow": null,
            "overflow_x": null,
            "overflow_y": null,
            "padding": null,
            "right": null,
            "top": null,
            "visibility": null,
            "width": null
          }
        },
        "5135f91fe65341ee8ffd357a3fc52f84": {
          "model_module": "@jupyter-widgets/controls",
          "model_name": "DescriptionStyleModel",
          "model_module_version": "1.5.0",
          "state": {
            "_model_module": "@jupyter-widgets/controls",
            "_model_module_version": "1.5.0",
            "_model_name": "DescriptionStyleModel",
            "_view_count": null,
            "_view_module": "@jupyter-widgets/base",
            "_view_module_version": "1.2.0",
            "_view_name": "StyleView",
            "description_width": ""
          }
        },
        "b017f38bc02b41b09ad52d8bec31bc50": {
          "model_module": "@jupyter-widgets/base",
          "model_name": "LayoutModel",
          "model_module_version": "1.2.0",
          "state": {
            "_model_module": "@jupyter-widgets/base",
            "_model_module_version": "1.2.0",
            "_model_name": "LayoutModel",
            "_view_count": null,
            "_view_module": "@jupyter-widgets/base",
            "_view_module_version": "1.2.0",
            "_view_name": "LayoutView",
            "align_content": null,
            "align_items": null,
            "align_self": null,
            "border": null,
            "bottom": null,
            "display": null,
            "flex": null,
            "flex_flow": null,
            "grid_area": null,
            "grid_auto_columns": null,
            "grid_auto_flow": null,
            "grid_auto_rows": null,
            "grid_column": null,
            "grid_gap": null,
            "grid_row": null,
            "grid_template_areas": null,
            "grid_template_columns": null,
            "grid_template_rows": null,
            "height": null,
            "justify_content": null,
            "justify_items": null,
            "left": null,
            "margin": null,
            "max_height": null,
            "max_width": null,
            "min_height": null,
            "min_width": null,
            "object_fit": null,
            "object_position": null,
            "order": null,
            "overflow": null,
            "overflow_x": null,
            "overflow_y": null,
            "padding": null,
            "right": null,
            "top": null,
            "visibility": null,
            "width": null
          }
        },
        "eaff181d70b64b50aace5234c7a0eb56": {
          "model_module": "@jupyter-widgets/controls",
          "model_name": "ProgressStyleModel",
          "model_module_version": "1.5.0",
          "state": {
            "_model_module": "@jupyter-widgets/controls",
            "_model_module_version": "1.5.0",
            "_model_name": "ProgressStyleModel",
            "_view_count": null,
            "_view_module": "@jupyter-widgets/base",
            "_view_module_version": "1.2.0",
            "_view_name": "StyleView",
            "bar_color": null,
            "description_width": ""
          }
        },
        "6950b2c4f6de453d82777c7c514ccf23": {
          "model_module": "@jupyter-widgets/base",
          "model_name": "LayoutModel",
          "model_module_version": "1.2.0",
          "state": {
            "_model_module": "@jupyter-widgets/base",
            "_model_module_version": "1.2.0",
            "_model_name": "LayoutModel",
            "_view_count": null,
            "_view_module": "@jupyter-widgets/base",
            "_view_module_version": "1.2.0",
            "_view_name": "LayoutView",
            "align_content": null,
            "align_items": null,
            "align_self": null,
            "border": null,
            "bottom": null,
            "display": null,
            "flex": null,
            "flex_flow": null,
            "grid_area": null,
            "grid_auto_columns": null,
            "grid_auto_flow": null,
            "grid_auto_rows": null,
            "grid_column": null,
            "grid_gap": null,
            "grid_row": null,
            "grid_template_areas": null,
            "grid_template_columns": null,
            "grid_template_rows": null,
            "height": null,
            "justify_content": null,
            "justify_items": null,
            "left": null,
            "margin": null,
            "max_height": null,
            "max_width": null,
            "min_height": null,
            "min_width": null,
            "object_fit": null,
            "object_position": null,
            "order": null,
            "overflow": null,
            "overflow_x": null,
            "overflow_y": null,
            "padding": null,
            "right": null,
            "top": null,
            "visibility": null,
            "width": null
          }
        },
        "d7b39533d31c4f8c8de834398cb60ab5": {
          "model_module": "@jupyter-widgets/controls",
          "model_name": "DescriptionStyleModel",
          "model_module_version": "1.5.0",
          "state": {
            "_model_module": "@jupyter-widgets/controls",
            "_model_module_version": "1.5.0",
            "_model_name": "DescriptionStyleModel",
            "_view_count": null,
            "_view_module": "@jupyter-widgets/base",
            "_view_module_version": "1.2.0",
            "_view_name": "StyleView",
            "description_width": ""
          }
        },
        "e604b9b04df7425ea755bb153cc31f63": {
          "model_module": "@jupyter-widgets/controls",
          "model_name": "HBoxModel",
          "model_module_version": "1.5.0",
          "state": {
            "_dom_classes": [],
            "_model_module": "@jupyter-widgets/controls",
            "_model_module_version": "1.5.0",
            "_model_name": "HBoxModel",
            "_view_count": null,
            "_view_module": "@jupyter-widgets/controls",
            "_view_module_version": "1.5.0",
            "_view_name": "HBoxView",
            "box_style": "",
            "children": [
              "IPY_MODEL_2f0e45845f7d4c7391852e6a77559a7b",
              "IPY_MODEL_7f03a0e9b8b5417fafbe283278bac6d2",
              "IPY_MODEL_b00c5b9f188b48e2af9a81211322b319"
            ],
            "layout": "IPY_MODEL_95f19bd934fd4bbfaf1caf62cd97583b"
          }
        },
        "2f0e45845f7d4c7391852e6a77559a7b": {
          "model_module": "@jupyter-widgets/controls",
          "model_name": "HTMLModel",
          "model_module_version": "1.5.0",
          "state": {
            "_dom_classes": [],
            "_model_module": "@jupyter-widgets/controls",
            "_model_module_version": "1.5.0",
            "_model_name": "HTMLModel",
            "_view_count": null,
            "_view_module": "@jupyter-widgets/controls",
            "_view_module_version": "1.5.0",
            "_view_name": "HTMLView",
            "description": "",
            "description_tooltip": null,
            "layout": "IPY_MODEL_0acd3e0422e84a07b4b20c6341d574c6",
            "placeholder": "​",
            "style": "IPY_MODEL_06ba093a01744dde8a0629f5b9753d3b",
            "value": "100%"
          }
        },
        "7f03a0e9b8b5417fafbe283278bac6d2": {
          "model_module": "@jupyter-widgets/controls",
          "model_name": "FloatProgressModel",
          "model_module_version": "1.5.0",
          "state": {
            "_dom_classes": [],
            "_model_module": "@jupyter-widgets/controls",
            "_model_module_version": "1.5.0",
            "_model_name": "FloatProgressModel",
            "_view_count": null,
            "_view_module": "@jupyter-widgets/controls",
            "_view_module_version": "1.5.0",
            "_view_name": "ProgressView",
            "bar_style": "success",
            "description": "",
            "description_tooltip": null,
            "layout": "IPY_MODEL_eb51370cdb4a45b2bc86437117474a49",
            "max": 50,
            "min": 0,
            "orientation": "horizontal",
            "style": "IPY_MODEL_adccf09867264376b35230b377f5a143",
            "value": 50
          }
        },
        "b00c5b9f188b48e2af9a81211322b319": {
          "model_module": "@jupyter-widgets/controls",
          "model_name": "HTMLModel",
          "model_module_version": "1.5.0",
          "state": {
            "_dom_classes": [],
            "_model_module": "@jupyter-widgets/controls",
            "_model_module_version": "1.5.0",
            "_model_name": "HTMLModel",
            "_view_count": null,
            "_view_module": "@jupyter-widgets/controls",
            "_view_module_version": "1.5.0",
            "_view_name": "HTMLView",
            "description": "",
            "description_tooltip": null,
            "layout": "IPY_MODEL_46ac205a69714d7380ee9918e16fb692",
            "placeholder": "​",
            "style": "IPY_MODEL_1c2bf049044c4c97a83959af1c1b104e",
            "value": " 50/50 [00:00&lt;00:00,  3.00it/s]"
          }
        },
        "95f19bd934fd4bbfaf1caf62cd97583b": {
          "model_module": "@jupyter-widgets/base",
          "model_name": "LayoutModel",
          "model_module_version": "1.2.0",
          "state": {
            "_model_module": "@jupyter-widgets/base",
            "_model_module_version": "1.2.0",
            "_model_name": "LayoutModel",
            "_view_count": null,
            "_view_module": "@jupyter-widgets/base",
            "_view_module_version": "1.2.0",
            "_view_name": "LayoutView",
            "align_content": null,
            "align_items": null,
            "align_self": null,
            "border": null,
            "bottom": null,
            "display": null,
            "flex": null,
            "flex_flow": null,
            "grid_area": null,
            "grid_auto_columns": null,
            "grid_auto_flow": null,
            "grid_auto_rows": null,
            "grid_column": null,
            "grid_gap": null,
            "grid_row": null,
            "grid_template_areas": null,
            "grid_template_columns": null,
            "grid_template_rows": null,
            "height": null,
            "justify_content": null,
            "justify_items": null,
            "left": null,
            "margin": null,
            "max_height": null,
            "max_width": null,
            "min_height": null,
            "min_width": null,
            "object_fit": null,
            "object_position": null,
            "order": null,
            "overflow": null,
            "overflow_x": null,
            "overflow_y": null,
            "padding": null,
            "right": null,
            "top": null,
            "visibility": null,
            "width": null
          }
        },
        "0acd3e0422e84a07b4b20c6341d574c6": {
          "model_module": "@jupyter-widgets/base",
          "model_name": "LayoutModel",
          "model_module_version": "1.2.0",
          "state": {
            "_model_module": "@jupyter-widgets/base",
            "_model_module_version": "1.2.0",
            "_model_name": "LayoutModel",
            "_view_count": null,
            "_view_module": "@jupyter-widgets/base",
            "_view_module_version": "1.2.0",
            "_view_name": "LayoutView",
            "align_content": null,
            "align_items": null,
            "align_self": null,
            "border": null,
            "bottom": null,
            "display": null,
            "flex": null,
            "flex_flow": null,
            "grid_area": null,
            "grid_auto_columns": null,
            "grid_auto_flow": null,
            "grid_auto_rows": null,
            "grid_column": null,
            "grid_gap": null,
            "grid_row": null,
            "grid_template_areas": null,
            "grid_template_columns": null,
            "grid_template_rows": null,
            "height": null,
            "justify_content": null,
            "justify_items": null,
            "left": null,
            "margin": null,
            "max_height": null,
            "max_width": null,
            "min_height": null,
            "min_width": null,
            "object_fit": null,
            "object_position": null,
            "order": null,
            "overflow": null,
            "overflow_x": null,
            "overflow_y": null,
            "padding": null,
            "right": null,
            "top": null,
            "visibility": null,
            "width": null
          }
        },
        "06ba093a01744dde8a0629f5b9753d3b": {
          "model_module": "@jupyter-widgets/controls",
          "model_name": "DescriptionStyleModel",
          "model_module_version": "1.5.0",
          "state": {
            "_model_module": "@jupyter-widgets/controls",
            "_model_module_version": "1.5.0",
            "_model_name": "DescriptionStyleModel",
            "_view_count": null,
            "_view_module": "@jupyter-widgets/base",
            "_view_module_version": "1.2.0",
            "_view_name": "StyleView",
            "description_width": ""
          }
        },
        "eb51370cdb4a45b2bc86437117474a49": {
          "model_module": "@jupyter-widgets/base",
          "model_name": "LayoutModel",
          "model_module_version": "1.2.0",
          "state": {
            "_model_module": "@jupyter-widgets/base",
            "_model_module_version": "1.2.0",
            "_model_name": "LayoutModel",
            "_view_count": null,
            "_view_module": "@jupyter-widgets/base",
            "_view_module_version": "1.2.0",
            "_view_name": "LayoutView",
            "align_content": null,
            "align_items": null,
            "align_self": null,
            "border": null,
            "bottom": null,
            "display": null,
            "flex": null,
            "flex_flow": null,
            "grid_area": null,
            "grid_auto_columns": null,
            "grid_auto_flow": null,
            "grid_auto_rows": null,
            "grid_column": null,
            "grid_gap": null,
            "grid_row": null,
            "grid_template_areas": null,
            "grid_template_columns": null,
            "grid_template_rows": null,
            "height": null,
            "justify_content": null,
            "justify_items": null,
            "left": null,
            "margin": null,
            "max_height": null,
            "max_width": null,
            "min_height": null,
            "min_width": null,
            "object_fit": null,
            "object_position": null,
            "order": null,
            "overflow": null,
            "overflow_x": null,
            "overflow_y": null,
            "padding": null,
            "right": null,
            "top": null,
            "visibility": null,
            "width": null
          }
        },
        "adccf09867264376b35230b377f5a143": {
          "model_module": "@jupyter-widgets/controls",
          "model_name": "ProgressStyleModel",
          "model_module_version": "1.5.0",
          "state": {
            "_model_module": "@jupyter-widgets/controls",
            "_model_module_version": "1.5.0",
            "_model_name": "ProgressStyleModel",
            "_view_count": null,
            "_view_module": "@jupyter-widgets/base",
            "_view_module_version": "1.2.0",
            "_view_name": "StyleView",
            "bar_color": null,
            "description_width": ""
          }
        },
        "46ac205a69714d7380ee9918e16fb692": {
          "model_module": "@jupyter-widgets/base",
          "model_name": "LayoutModel",
          "model_module_version": "1.2.0",
          "state": {
            "_model_module": "@jupyter-widgets/base",
            "_model_module_version": "1.2.0",
            "_model_name": "LayoutModel",
            "_view_count": null,
            "_view_module": "@jupyter-widgets/base",
            "_view_module_version": "1.2.0",
            "_view_name": "LayoutView",
            "align_content": null,
            "align_items": null,
            "align_self": null,
            "border": null,
            "bottom": null,
            "display": null,
            "flex": null,
            "flex_flow": null,
            "grid_area": null,
            "grid_auto_columns": null,
            "grid_auto_flow": null,
            "grid_auto_rows": null,
            "grid_column": null,
            "grid_gap": null,
            "grid_row": null,
            "grid_template_areas": null,
            "grid_template_columns": null,
            "grid_template_rows": null,
            "height": null,
            "justify_content": null,
            "justify_items": null,
            "left": null,
            "margin": null,
            "max_height": null,
            "max_width": null,
            "min_height": null,
            "min_width": null,
            "object_fit": null,
            "object_position": null,
            "order": null,
            "overflow": null,
            "overflow_x": null,
            "overflow_y": null,
            "padding": null,
            "right": null,
            "top": null,
            "visibility": null,
            "width": null
          }
        },
        "1c2bf049044c4c97a83959af1c1b104e": {
          "model_module": "@jupyter-widgets/controls",
          "model_name": "DescriptionStyleModel",
          "model_module_version": "1.5.0",
          "state": {
            "_model_module": "@jupyter-widgets/controls",
            "_model_module_version": "1.5.0",
            "_model_name": "DescriptionStyleModel",
            "_view_count": null,
            "_view_module": "@jupyter-widgets/base",
            "_view_module_version": "1.2.0",
            "_view_name": "StyleView",
            "description_width": ""
          }
        },
        "562feb54eca24e32a0a8a48df3427ac3": {
          "model_module": "@jupyter-widgets/controls",
          "model_name": "HBoxModel",
          "model_module_version": "1.5.0",
          "state": {
            "_dom_classes": [],
            "_model_module": "@jupyter-widgets/controls",
            "_model_module_version": "1.5.0",
            "_model_name": "HBoxModel",
            "_view_count": null,
            "_view_module": "@jupyter-widgets/controls",
            "_view_module_version": "1.5.0",
            "_view_name": "HBoxView",
            "box_style": "",
            "children": [
              "IPY_MODEL_1d8fe4cd552a4fbfb237400bed574650",
              "IPY_MODEL_50e82a9b65484883a6cfa9228fa5496d",
              "IPY_MODEL_fc00ecf319944cd88ba7c5cd5419a7f2"
            ],
            "layout": "IPY_MODEL_3ad9da588402427cb0e5ad75cba873a9"
          }
        },
        "1d8fe4cd552a4fbfb237400bed574650": {
          "model_module": "@jupyter-widgets/controls",
          "model_name": "HTMLModel",
          "model_module_version": "1.5.0",
          "state": {
            "_dom_classes": [],
            "_model_module": "@jupyter-widgets/controls",
            "_model_module_version": "1.5.0",
            "_model_name": "HTMLModel",
            "_view_count": null,
            "_view_module": "@jupyter-widgets/controls",
            "_view_module_version": "1.5.0",
            "_view_name": "HTMLView",
            "description": "",
            "description_tooltip": null,
            "layout": "IPY_MODEL_c7a6ecb987784288bae469309c8b4050",
            "placeholder": "​",
            "style": "IPY_MODEL_d92e616d9e5b4632bc893b3ddb3549b0",
            "value": "100%"
          }
        },
        "50e82a9b65484883a6cfa9228fa5496d": {
          "model_module": "@jupyter-widgets/controls",
          "model_name": "FloatProgressModel",
          "model_module_version": "1.5.0",
          "state": {
            "_dom_classes": [],
            "_model_module": "@jupyter-widgets/controls",
            "_model_module_version": "1.5.0",
            "_model_name": "FloatProgressModel",
            "_view_count": null,
            "_view_module": "@jupyter-widgets/controls",
            "_view_module_version": "1.5.0",
            "_view_name": "ProgressView",
            "bar_style": "success",
            "description": "",
            "description_tooltip": null,
            "layout": "IPY_MODEL_299c040111f94e0c985c1cb0743aa48e",
            "max": 10,
            "min": 0,
            "orientation": "horizontal",
            "style": "IPY_MODEL_8b09a3c28973436cb34365179bd7d2cf",
            "value": 10
          }
        },
        "fc00ecf319944cd88ba7c5cd5419a7f2": {
          "model_module": "@jupyter-widgets/controls",
          "model_name": "HTMLModel",
          "model_module_version": "1.5.0",
          "state": {
            "_dom_classes": [],
            "_model_module": "@jupyter-widgets/controls",
            "_model_module_version": "1.5.0",
            "_model_name": "HTMLModel",
            "_view_count": null,
            "_view_module": "@jupyter-widgets/controls",
            "_view_module_version": "1.5.0",
            "_view_name": "HTMLView",
            "description": "",
            "description_tooltip": null,
            "layout": "IPY_MODEL_8b1a88f2c7554866a74a3f0395a95f52",
            "placeholder": "​",
            "style": "IPY_MODEL_670cfd2dbeca47329327dc2138236e17",
            "value": " 10/10 [00:00&lt;00:00,  4.30it/s]"
          }
        },
        "3ad9da588402427cb0e5ad75cba873a9": {
          "model_module": "@jupyter-widgets/base",
          "model_name": "LayoutModel",
          "model_module_version": "1.2.0",
          "state": {
            "_model_module": "@jupyter-widgets/base",
            "_model_module_version": "1.2.0",
            "_model_name": "LayoutModel",
            "_view_count": null,
            "_view_module": "@jupyter-widgets/base",
            "_view_module_version": "1.2.0",
            "_view_name": "LayoutView",
            "align_content": null,
            "align_items": null,
            "align_self": null,
            "border": null,
            "bottom": null,
            "display": null,
            "flex": null,
            "flex_flow": null,
            "grid_area": null,
            "grid_auto_columns": null,
            "grid_auto_flow": null,
            "grid_auto_rows": null,
            "grid_column": null,
            "grid_gap": null,
            "grid_row": null,
            "grid_template_areas": null,
            "grid_template_columns": null,
            "grid_template_rows": null,
            "height": null,
            "justify_content": null,
            "justify_items": null,
            "left": null,
            "margin": null,
            "max_height": null,
            "max_width": null,
            "min_height": null,
            "min_width": null,
            "object_fit": null,
            "object_position": null,
            "order": null,
            "overflow": null,
            "overflow_x": null,
            "overflow_y": null,
            "padding": null,
            "right": null,
            "top": null,
            "visibility": null,
            "width": null
          }
        },
        "c7a6ecb987784288bae469309c8b4050": {
          "model_module": "@jupyter-widgets/base",
          "model_name": "LayoutModel",
          "model_module_version": "1.2.0",
          "state": {
            "_model_module": "@jupyter-widgets/base",
            "_model_module_version": "1.2.0",
            "_model_name": "LayoutModel",
            "_view_count": null,
            "_view_module": "@jupyter-widgets/base",
            "_view_module_version": "1.2.0",
            "_view_name": "LayoutView",
            "align_content": null,
            "align_items": null,
            "align_self": null,
            "border": null,
            "bottom": null,
            "display": null,
            "flex": null,
            "flex_flow": null,
            "grid_area": null,
            "grid_auto_columns": null,
            "grid_auto_flow": null,
            "grid_auto_rows": null,
            "grid_column": null,
            "grid_gap": null,
            "grid_row": null,
            "grid_template_areas": null,
            "grid_template_columns": null,
            "grid_template_rows": null,
            "height": null,
            "justify_content": null,
            "justify_items": null,
            "left": null,
            "margin": null,
            "max_height": null,
            "max_width": null,
            "min_height": null,
            "min_width": null,
            "object_fit": null,
            "object_position": null,
            "order": null,
            "overflow": null,
            "overflow_x": null,
            "overflow_y": null,
            "padding": null,
            "right": null,
            "top": null,
            "visibility": null,
            "width": null
          }
        },
        "d92e616d9e5b4632bc893b3ddb3549b0": {
          "model_module": "@jupyter-widgets/controls",
          "model_name": "DescriptionStyleModel",
          "model_module_version": "1.5.0",
          "state": {
            "_model_module": "@jupyter-widgets/controls",
            "_model_module_version": "1.5.0",
            "_model_name": "DescriptionStyleModel",
            "_view_count": null,
            "_view_module": "@jupyter-widgets/base",
            "_view_module_version": "1.2.0",
            "_view_name": "StyleView",
            "description_width": ""
          }
        },
        "299c040111f94e0c985c1cb0743aa48e": {
          "model_module": "@jupyter-widgets/base",
          "model_name": "LayoutModel",
          "model_module_version": "1.2.0",
          "state": {
            "_model_module": "@jupyter-widgets/base",
            "_model_module_version": "1.2.0",
            "_model_name": "LayoutModel",
            "_view_count": null,
            "_view_module": "@jupyter-widgets/base",
            "_view_module_version": "1.2.0",
            "_view_name": "LayoutView",
            "align_content": null,
            "align_items": null,
            "align_self": null,
            "border": null,
            "bottom": null,
            "display": null,
            "flex": null,
            "flex_flow": null,
            "grid_area": null,
            "grid_auto_columns": null,
            "grid_auto_flow": null,
            "grid_auto_rows": null,
            "grid_column": null,
            "grid_gap": null,
            "grid_row": null,
            "grid_template_areas": null,
            "grid_template_columns": null,
            "grid_template_rows": null,
            "height": null,
            "justify_content": null,
            "justify_items": null,
            "left": null,
            "margin": null,
            "max_height": null,
            "max_width": null,
            "min_height": null,
            "min_width": null,
            "object_fit": null,
            "object_position": null,
            "order": null,
            "overflow": null,
            "overflow_x": null,
            "overflow_y": null,
            "padding": null,
            "right": null,
            "top": null,
            "visibility": null,
            "width": null
          }
        },
        "8b09a3c28973436cb34365179bd7d2cf": {
          "model_module": "@jupyter-widgets/controls",
          "model_name": "ProgressStyleModel",
          "model_module_version": "1.5.0",
          "state": {
            "_model_module": "@jupyter-widgets/controls",
            "_model_module_version": "1.5.0",
            "_model_name": "ProgressStyleModel",
            "_view_count": null,
            "_view_module": "@jupyter-widgets/base",
            "_view_module_version": "1.2.0",
            "_view_name": "StyleView",
            "bar_color": null,
            "description_width": ""
          }
        },
        "8b1a88f2c7554866a74a3f0395a95f52": {
          "model_module": "@jupyter-widgets/base",
          "model_name": "LayoutModel",
          "model_module_version": "1.2.0",
          "state": {
            "_model_module": "@jupyter-widgets/base",
            "_model_module_version": "1.2.0",
            "_model_name": "LayoutModel",
            "_view_count": null,
            "_view_module": "@jupyter-widgets/base",
            "_view_module_version": "1.2.0",
            "_view_name": "LayoutView",
            "align_content": null,
            "align_items": null,
            "align_self": null,
            "border": null,
            "bottom": null,
            "display": null,
            "flex": null,
            "flex_flow": null,
            "grid_area": null,
            "grid_auto_columns": null,
            "grid_auto_flow": null,
            "grid_auto_rows": null,
            "grid_column": null,
            "grid_gap": null,
            "grid_row": null,
            "grid_template_areas": null,
            "grid_template_columns": null,
            "grid_template_rows": null,
            "height": null,
            "justify_content": null,
            "justify_items": null,
            "left": null,
            "margin": null,
            "max_height": null,
            "max_width": null,
            "min_height": null,
            "min_width": null,
            "object_fit": null,
            "object_position": null,
            "order": null,
            "overflow": null,
            "overflow_x": null,
            "overflow_y": null,
            "padding": null,
            "right": null,
            "top": null,
            "visibility": null,
            "width": null
          }
        },
        "670cfd2dbeca47329327dc2138236e17": {
          "model_module": "@jupyter-widgets/controls",
          "model_name": "DescriptionStyleModel",
          "model_module_version": "1.5.0",
          "state": {
            "_model_module": "@jupyter-widgets/controls",
            "_model_module_version": "1.5.0",
            "_model_name": "DescriptionStyleModel",
            "_view_count": null,
            "_view_module": "@jupyter-widgets/base",
            "_view_module_version": "1.2.0",
            "_view_name": "StyleView",
            "description_width": ""
          }
        }
      }
    }
  },
  "cells": [
    {
      "cell_type": "code",
      "execution_count": null,
      "metadata": {
        "colab": {
          "base_uri": "https://localhost:8080/"
        },
        "id": "-H4QXyzR42in",
        "outputId": "49640f87-e94e-4cd0-aa09-4dbc9e29a9b6"
      },
      "outputs": [
        {
          "output_type": "stream",
          "name": "stdout",
          "text": [
            "Mounted at /content/drive\n"
          ]
        }
      ],
      "source": [
        "from google.colab import drive\n",
        "drive.mount(\"/content/drive\", force_remount=True)"
      ]
    },
    {
      "cell_type": "code",
      "source": [
        "%cd drive/MyDrive"
      ],
      "metadata": {
        "colab": {
          "base_uri": "https://localhost:8080/"
        },
        "id": "grfidgNy6DUa",
        "outputId": "1f4ef015-ed24-46a6-ce25-8962ff085871"
      },
      "execution_count": null,
      "outputs": [
        {
          "output_type": "stream",
          "name": "stdout",
          "text": [
            "/content/drive/MyDrive\n"
          ]
        }
      ]
    },
    {
      "cell_type": "code",
      "source": [
        "%cd Image denoising"
      ],
      "metadata": {
        "colab": {
          "base_uri": "https://localhost:8080/"
        },
        "id": "r7B3Ytqi6Gy4",
        "outputId": "06fb8783-5887-404d-e014-faa5abb2a416"
      },
      "execution_count": null,
      "outputs": [
        {
          "output_type": "stream",
          "name": "stdout",
          "text": [
            "/content/drive/MyDrive/Image denoising\n"
          ]
        }
      ]
    },
    {
      "cell_type": "code",
      "source": [
        "%cd MWCNN"
      ],
      "metadata": {
        "colab": {
          "base_uri": "https://localhost:8080/"
        },
        "id": "ftzKboTD6IfR",
        "outputId": "f6804183-eb7b-4e8f-d187-7c595e847efd"
      },
      "execution_count": null,
      "outputs": [
        {
          "output_type": "stream",
          "name": "stdout",
          "text": [
            "/content/drive/MyDrive/Image denoising/MWCNN\n"
          ]
        }
      ]
    },
    {
      "cell_type": "code",
      "source": [
        "\n",
        "%matplotlib inline\n",
        "import warnings\n",
        "warnings.filterwarnings(\"ignore\")\n",
        "\n",
        "import os\n",
        "import pathlib\n",
        "from matplotlib import pyplot as plt\n",
        "import seaborn as sns\n",
        "import pickle\n",
        "import pandas as pd\n",
        "import numpy as np\n",
        "import cv2\n",
        "import skimage\n",
        "from skimage.util import random_noise\n",
        "import tensorflow as tf\n",
        "\n",
        "from tqdm.notebook import tqdm\n",
        "import random"
      ],
      "metadata": {
        "id": "fVjuT63O6KRg"
      },
      "execution_count": null,
      "outputs": []
    },
    {
      "cell_type": "code",
      "source": [
        "def get_images_paths(root_dir):\n",
        "    # Getting dataset images\n",
        "    root = pathlib.Path(root_dir)\n",
        "    img_paths = list(root.rglob(\"*.png*\"))\n",
        "    img_paths_lst = [str(path) for path in img_paths]\n",
        "\n",
        "    gt_lst = []\n",
        "    noisy_lst= []\n",
        "    for p in img_paths_lst:\n",
        "        img_type = p.split(\"/\")[-1].split('.')[0]\n",
        "        if img_type=='199':\n",
        "          continue\n",
        "        noisy_lst.append(p)\n",
        "    for o in img_paths_lst:\n",
        "        img_type = o.split(\"/\")[-1].split('.')[0]\n",
        "        gt_lst.append(o)\n",
        "    # print(gt_lst)\n",
        "    gt_lst1 = []\n",
        "    for i in gt_lst:\n",
        "      img_type = i.split(\"/\")[-1].split('.')[0]\n",
        "      if img_type=='199':\n",
        "        gt_lst1.append(i)\n",
        "\n",
        "    gt_lst1 = (len(gt_lst)-1)*gt_lst1\n",
        "\n",
        "    noisy_array = np.asarray(noisy_lst)\n",
        "    gt_array = np.asarray(gt_lst1)\n",
        "    return noisy_array, gt_array"
      ],
      "metadata": {
        "id": "QHgu2zSa6Ldj"
      },
      "execution_count": null,
      "outputs": []
    },
    {
      "cell_type": "code",
      "source": [
        "noisy_train_paths, gt_train_paths = get_images_paths(\"exp1/images/train\")\n",
        "noisy_test_paths, gt_test_paths = get_images_paths(\"exp1/images/test\")"
      ],
      "metadata": {
        "id": "vlDv_GgH6MeB"
      },
      "execution_count": null,
      "outputs": []
    },
    {
      "cell_type": "code",
      "source": [
        "print(noisy_train_paths.shape)\n",
        "print(noisy_test_paths.shape)\n",
        "print(gt_train_paths.shape)\n",
        "print(gt_test_paths.shape)"
      ],
      "metadata": {
        "colab": {
          "base_uri": "https://localhost:8080/"
        },
        "id": "WqATqlPl6PSy",
        "outputId": "28676fe7-2956-4feb-95f0-28b9cb31db3e"
      },
      "execution_count": null,
      "outputs": [
        {
          "output_type": "stream",
          "name": "stdout",
          "text": [
            "(50,)\n",
            "(10,)\n",
            "(50,)\n",
            "(10,)\n"
          ]
        }
      ]
    },
    {
      "cell_type": "code",
      "source": [
        "# Get gt_images in memory\n",
        "def get_images_in_mem(images_paths):\n",
        "    images_lst = []\n",
        "    for img_path in tqdm(images_paths):\n",
        "        img = cv2.imread(img_path)\n",
        "        img = cv2.cvtColor(img, cv2.COLOR_BGR2RGB)\n",
        "        img = cv2.resize(img, (128, 128))\n",
        "        images_lst.append(img)\n",
        "    return np.array(images_lst)"
      ],
      "metadata": {
        "id": "xF_9RqEA6Q1E"
      },
      "execution_count": null,
      "outputs": []
    },
    {
      "cell_type": "code",
      "source": [
        "noisy_train_images = get_images_in_mem(noisy_train_paths)\n",
        "noisy_test_images = get_images_in_mem(noisy_test_paths)\n",
        "\n",
        "gt_train_images = get_images_in_mem(gt_train_paths)\n",
        "gt_test_images = get_images_in_mem(gt_test_paths)\n",
        "\n",
        "print(noisy_train_images.shape)\n",
        "print(noisy_test_images.shape)\n",
        "\n",
        "print(gt_train_images.shape)\n",
        "print(gt_test_images.shape)"
      ],
      "metadata": {
        "colab": {
          "base_uri": "https://localhost:8080/",
          "height": 214,
          "referenced_widgets": [
            "fd03bb11a5cd45e78ffcba4271bd781f",
            "936da8b0346e463bab164b25d7437076",
            "6b8da98b3428404f96db2d89ec4fd91f",
            "2a0934fd8fbc4d1683417c588d40ab58",
            "668aa87487944cfeb502504e97a0a924",
            "bb871cb44d6e4339ad6bee67ba7e1d8e",
            "bb975b7120104a2689c41d3cdfabc931",
            "ece68fb61d814afe8271463490ba5b39",
            "c4b539d638014d999fdd250979e9d87a",
            "e456a75dc136474c904f8992e86aa7e6",
            "9d5efb072a7d4b0d8dc0551a9752508c",
            "bd3d605e6d89436d82c981b76beb0e43",
            "ef166c62a394404db13c0a8835a467f1",
            "24c2e4bdd62d4093ac07985ea75e43b1",
            "b364c854ce2c47c0b9cff2d8c4dab161",
            "f9154780e8044373b2c5e24fd7e20752",
            "99819d588d4a4915946386574e704e80",
            "5135f91fe65341ee8ffd357a3fc52f84",
            "b017f38bc02b41b09ad52d8bec31bc50",
            "eaff181d70b64b50aace5234c7a0eb56",
            "6950b2c4f6de453d82777c7c514ccf23",
            "d7b39533d31c4f8c8de834398cb60ab5",
            "e604b9b04df7425ea755bb153cc31f63",
            "2f0e45845f7d4c7391852e6a77559a7b",
            "7f03a0e9b8b5417fafbe283278bac6d2",
            "b00c5b9f188b48e2af9a81211322b319",
            "95f19bd934fd4bbfaf1caf62cd97583b",
            "0acd3e0422e84a07b4b20c6341d574c6",
            "06ba093a01744dde8a0629f5b9753d3b",
            "eb51370cdb4a45b2bc86437117474a49",
            "adccf09867264376b35230b377f5a143",
            "46ac205a69714d7380ee9918e16fb692",
            "1c2bf049044c4c97a83959af1c1b104e",
            "562feb54eca24e32a0a8a48df3427ac3",
            "1d8fe4cd552a4fbfb237400bed574650",
            "50e82a9b65484883a6cfa9228fa5496d",
            "fc00ecf319944cd88ba7c5cd5419a7f2",
            "3ad9da588402427cb0e5ad75cba873a9",
            "c7a6ecb987784288bae469309c8b4050",
            "d92e616d9e5b4632bc893b3ddb3549b0",
            "299c040111f94e0c985c1cb0743aa48e",
            "8b09a3c28973436cb34365179bd7d2cf",
            "8b1a88f2c7554866a74a3f0395a95f52",
            "670cfd2dbeca47329327dc2138236e17"
          ]
        },
        "id": "jv-MCjdu6R7Z",
        "outputId": "130dcf73-91df-4184-b27b-e1eb20914a74"
      },
      "execution_count": null,
      "outputs": [
        {
          "output_type": "display_data",
          "data": {
            "text/plain": [
              "  0%|          | 0/50 [00:00<?, ?it/s]"
            ],
            "application/vnd.jupyter.widget-view+json": {
              "version_major": 2,
              "version_minor": 0,
              "model_id": "fd03bb11a5cd45e78ffcba4271bd781f"
            }
          },
          "metadata": {}
        },
        {
          "output_type": "display_data",
          "data": {
            "text/plain": [
              "  0%|          | 0/10 [00:00<?, ?it/s]"
            ],
            "application/vnd.jupyter.widget-view+json": {
              "version_major": 2,
              "version_minor": 0,
              "model_id": "bd3d605e6d89436d82c981b76beb0e43"
            }
          },
          "metadata": {}
        },
        {
          "output_type": "display_data",
          "data": {
            "text/plain": [
              "  0%|          | 0/50 [00:00<?, ?it/s]"
            ],
            "application/vnd.jupyter.widget-view+json": {
              "version_major": 2,
              "version_minor": 0,
              "model_id": "e604b9b04df7425ea755bb153cc31f63"
            }
          },
          "metadata": {}
        },
        {
          "output_type": "display_data",
          "data": {
            "text/plain": [
              "  0%|          | 0/10 [00:00<?, ?it/s]"
            ],
            "application/vnd.jupyter.widget-view+json": {
              "version_major": 2,
              "version_minor": 0,
              "model_id": "562feb54eca24e32a0a8a48df3427ac3"
            }
          },
          "metadata": {}
        },
        {
          "output_type": "stream",
          "name": "stdout",
          "text": [
            "(50, 128, 128, 3)\n",
            "(10, 128, 128, 3)\n",
            "(50, 128, 128, 3)\n",
            "(10, 128, 128, 3)\n"
          ]
        }
      ]
    },
    {
      "cell_type": "code",
      "source": [
        "def tf_data_generator(X, y, batch_size=32):\n",
        "    dataset = tf.data.Dataset.from_tensor_slices((X, y)) # This is the main step for data generation\n",
        "    dataset = dataset.shuffle(1000, reshuffle_each_iteration=True)\n",
        "\n",
        "    dataset = dataset.repeat()\n",
        "    dataset = dataset.batch(batch_size=batch_size, drop_remainder=True)\n",
        "    dataset = dataset.prefetch(tf.data.experimental.AUTOTUNE)\n",
        "    return dataset\n",
        "\n",
        "BATCH_SIZE=4\n",
        "\n",
        "image_generator_train = tf_data_generator(X=noisy_train_images, y=gt_train_images, batch_size=BATCH_SIZE)\n",
        "image_generator_test = tf_data_generator(X=noisy_test_images, y=gt_test_images, batch_size=BATCH_SIZE)"
      ],
      "metadata": {
        "id": "xW_sRzYX6TJv"
      },
      "execution_count": null,
      "outputs": []
    },
    {
      "cell_type": "code",
      "source": [
        "# SANITY CHECK of the Dataset generator\n",
        "for noisy, gt in image_generator_train.take(1):  # only take first element of dataset\n",
        "    numpy_images = noisy.numpy()\n",
        "    numpy_labels = gt.numpy()\n",
        "\n",
        "f, axarr = plt.subplots(1,2, figsize=(11,11))\n",
        "axarr[0].imshow(numpy_images[1])\n",
        "axarr[0].set_title(\"X-data noisy image\")\n",
        "axarr[0].set_axis_off()\n",
        "\n",
        "axarr[1].imshow(numpy_labels[1])\n",
        "axarr[1].set_title(\"y-data ground truth image\")\n",
        "axarr[1].set_axis_off()"
      ],
      "metadata": {
        "colab": {
          "base_uri": "https://localhost:8080/",
          "height": 326
        },
        "id": "XhlhK6ZA6Ue2",
        "outputId": "2b58c47d-7699-4cc9-81c2-671d5e90e76a"
      },
      "execution_count": null,
      "outputs": [
        {
          "output_type": "display_data",
          "data": {
            "text/plain": [
              "<Figure size 792x792 with 2 Axes>"
            ],
            "image/png": "[encoded data removed]"
          },
          "metadata": {
            "needs_background": "light"
          }
        }
      ]
    },
    {
      "cell_type": "code",
      "source": [
        "import tensorflow as tf\n",
        "from tensorflow.keras import models, layers\n",
        "from tensorflow.keras.models import Model\n",
        "from tensorflow.keras.layers import Conv2D, Conv2DTranspose,\\\n",
        "                                    GlobalAveragePooling2D, AveragePooling2D, MaxPool2D, UpSampling2D,\\\n",
        "                                    BatchNormalization, Activation,ELU, ReLU, Flatten, Dense, Input,\\\n",
        "                                    Add, Multiply, Concatenate, Softmax\n",
        "from tensorflow.keras import initializers, regularizers\n",
        "from tensorflow.keras.optimizers import Adam\n",
        "from tensorflow.keras.activations import softmax\n",
        "\n",
        "tf.keras.backend.set_image_data_format('channels_last')\n",
        "import keras.backend as K"
      ],
      "metadata": {
        "id": "lMLfrTYF6Vli"
      },
      "execution_count": null,
      "outputs": []
    },
    {
      "cell_type": "code",
      "source": [
        "class Conv_block(tf.keras.layers.Layer):\n",
        "    def  __init__(self, num_filters=200, kernel_size=3, **kwargs):\n",
        "        super().__init__(**kwargs)\n",
        "        self.num_filters=num_filters\n",
        "        self.kernel_size=kernel_size\n",
        "        self.conv_1 = Conv2D(filters=self.num_filters, kernel_size=self.kernel_size, padding='same')\n",
        "        self.conv_2 = Conv2D(filters=self.num_filters, kernel_size=self.kernel_size, padding='same')\n",
        "        self.conv_3 = Conv2D(filters=self.num_filters, kernel_size=self.kernel_size, padding='same')\n",
        "        self.conv_4 = Conv2D(filters=self.num_filters, kernel_size=self.kernel_size, padding='same')\n",
        "\n",
        "        self.bn_1 = BatchNormalization()\n",
        "        self.bn_2 = BatchNormalization()\n",
        "        self.bn_3 = BatchNormalization()\n",
        "        self.bn_4 = BatchNormalization()\n",
        "\n",
        "    def get_config(self):\n",
        "        config = super().get_config().copy()\n",
        "        config.update({\n",
        "            'num_filters': self.num_filters,\n",
        "            'kernel_size':self.kernel_size\n",
        "        })\n",
        "        return config\n",
        "\n",
        "    def call(self, X):\n",
        "        X = self.conv_1(X)\n",
        "        # X = self.bn_1(X)\n",
        "        X = ELU()(X)\n",
        "        X = self.conv_2(X)\n",
        "        # X = self.bn_2(X)\n",
        "        X = ELU()(X)\n",
        "        X = self.conv_3(X)\n",
        "        # X = self.bn_3(X)\n",
        "        X = ELU()(X)\n",
        "        # X = self.conv_4(X)\n",
        "        # # X = self.bn_4(X)\n",
        "        # X = ReLU()(X)\n",
        "\n",
        "        return X"
      ],
      "metadata": {
        "id": "fAkKs2EK6Wnn"
      },
      "execution_count": null,
      "outputs": []
    },
    {
      "cell_type": "code",
      "source": [
        "class DWT_downsampling(tf.keras.layers.Layer):\n",
        "    def __init__(self, **kwargs):\n",
        "        super().__init__(**kwargs)\n",
        "\n",
        "    def call(self, x):\n",
        "        \"\"\"\n",
        "        The following calculations for DWT are inspired from,\n",
        "        https://github.com/AureliePeng/Keras-WaveletTransform/blob/master/models/DWT.py\n",
        "        \"\"\"\n",
        "        x1 = x[:, 0::2, 0::2, :] #x(2i−1, 2j−1)\n",
        "        x2 = x[:, 1::2, 0::2, :] #x(2i, 2j-1)\n",
        "        x3 = x[:, 0::2, 1::2, :] #x(2i−1, 2j)\n",
        "        x4 = x[:, 1::2, 1::2, :] #x(2i, 2j)\n",
        "\n",
        "        x_LL = x1 + x2 + x3 + x4\n",
        "        x_LH = -x1 - x3 + x2 + x4\n",
        "        x_HL = -x1 + x3 - x2 + x4\n",
        "        x_HH = x1 - x3 - x2 + x4\n",
        "\n",
        "        return Concatenate(axis=-1)([x_LL, x_LH, x_HL, x_HH])"
      ],
      "metadata": {
        "id": "HAiKp-v36XoS"
      },
      "execution_count": null,
      "outputs": []
    },
    {
      "cell_type": "code",
      "source": [
        "class IWT_upsampling(tf.keras.layers.Layer):\n",
        "    def __init__(self, **kwargs):\n",
        "        super().__init__(**kwargs)\n",
        "\n",
        "    def call(self, x):\n",
        "        \"\"\"\n",
        "        The following calculations for IWT are inspired from,\n",
        "        https://github.com/AureliePeng/Keras-WaveletTransform/blob/master/models/DWT.py\n",
        "        \"\"\"\n",
        "        x_LL = x[:, :, :, 0:x.shape[3]//4]\n",
        "        x_LH = x[:, :, :, x.shape[3]//4:x.shape[3]//4*2]\n",
        "        x_HL = x[:, :, :, x.shape[3]//4*2:x.shape[3]//4*3]\n",
        "        x_HH = x[:, :, :, x.shape[3]//4*3:]\n",
        "\n",
        "        x1 = (x_LL - x_LH - x_HL + x_HH)/4\n",
        "        x2 = (x_LL - x_LH + x_HL - x_HH)/4\n",
        "        x3 = (x_LL + x_LH - x_HL - x_HH)/4\n",
        "        x4 = (x_LL + x_LH + x_HL + x_HH)/4\n",
        "\n",
        "        y1 = K.stack([x1,x3], axis=2)\n",
        "        y2 = K.stack([x2,x4], axis=2)\n",
        "        shape = K.shape(x)\n",
        "        return K.reshape(K.concatenate([y1,y2], axis=-1), K.stack([shape[0], shape[1]*2, shape[2]*2, shape[3]//4]))"
      ],
      "metadata": {
        "id": "tAufkHw-6Ynd"
      },
      "execution_count": null,
      "outputs": []
    },
    {
      "cell_type": "code",
      "source": [
        "def create_model():\n",
        "    tf.keras.backend.clear_session()\n",
        "\n",
        "    input = Input(shape=(128,128,3))\n",
        "\n",
        "    cb_1 = Conv_block(num_filters=64)(input)\n",
        "    dwt_1 = DWT_downsampling()(cb_1)\n",
        "\n",
        "    cb_2 = Conv_block(num_filters=128)(dwt_1)\n",
        "    dwt_2 = DWT_downsampling()(cb_2)\n",
        "\n",
        "    # cb_3 = Conv_block(num_filters=256)(dwt_2)\n",
        "    # dwt_3 = DWT_downsampling()(cb_3)\n",
        "\n",
        "    # cb_4 = Conv_block(num_filters=512)(dwt_3)\n",
        "    # dwt_4 = DWT_downsampling()(cb_4)\n",
        "\n",
        "    cb_5 = Conv_block(num_filters=512)(dwt_2)\n",
        "    cb_5 = BatchNormalization()(cb_5)\n",
        "    cb_5 = Conv_block(num_filters=512)(cb_5)\n",
        "    cb_5 = Conv2D(filters=512, kernel_size=3, strides=1, padding='same')(cb_5)\n",
        "\n",
        "    # up = IWT_upsampling()(cb_5)\n",
        "    # up = Conv_block(num_filters=512)(Add()([up, cb_4]))\n",
        "    # up = Conv2D(filters=1024, kernel_size=3, strides=1, padding='same')(up)\n",
        "\n",
        "    # up = IWT_upsampling()(cb_5)\n",
        "    # up = Conv_block(num_filters=256)(Add()([up, cb_3]))\n",
        "    # up = Conv2D(filters=512, kernel_size=3, strides=1, padding='same')(up)\n",
        "\n",
        "    up = IWT_upsampling()(cb_5)\n",
        "    up = Conv_block(num_filters=128)(Add()([up, cb_2]))\n",
        "    up = Conv2D(filters=256, kernel_size=3, strides=1, padding='same')(up)\n",
        "\n",
        "    up = IWT_upsampling()(up)\n",
        "    up = Conv_block(num_filters=64)(Add()([up, cb_1]))\n",
        "    up = Conv2D(filters=128, kernel_size=3, strides=1, padding='same')(up)\n",
        "\n",
        "    out = Conv2D(filters=3, kernel_size=(1, 1), padding=\"same\")(up)\n",
        "    out = Flatten()(out)\n",
        "    out = Dense(1000)(out)\n",
        "\n",
        "    # out = Dense(1, activation='sigmoid')(out)\n",
        "\n",
        "    return Model(inputs=[input], outputs=[out])\n",
        "\n",
        "model = create_model()\n",
        "model.summary()"
      ],
      "metadata": {
        "colab": {
          "base_uri": "https://localhost:8080/"
        },
        "id": "ghjAkBa06Z1k",
        "outputId": "6ea72456-d530-43f4-83ea-aef9413cc0ac"
      },
      "execution_count": null,
      "outputs": [
        {
          "output_type": "stream",
          "name": "stdout",
          "text": [
            "Model: \"model\"\n",
            "__________________________________________________________________________________________________\n",
            " Layer (type)                   Output Shape         Param #     Connected to                     \n",
            "==================================================================================================\n",
            " input_1 (InputLayer)           [(None, 128, 128, 3  0           []                               \n",
            "                                )]                                                                \n",
            "                                                                                                  \n",
            " conv_block (Conv_block)        (None, 128, 128, 64  75648       ['input_1[0][0]']                \n",
            "                                )                                                                 \n",
            "                                                                                                  \n",
            " dwt_downsampling (DWT_downsamp  (None, 64, 64, 256)  0          ['conv_block[0][0]']             \n",
            " ling)                                                                                            \n",
            "                                                                                                  \n",
            " conv_block_1 (Conv_block)      (None, 64, 64, 128)  590208      ['dwt_downsampling[0][0]']       \n",
            "                                                                                                  \n",
            " dwt_downsampling_1 (DWT_downsa  (None, 32, 32, 512)  0          ['conv_block_1[0][0]']           \n",
            " mpling)                                                                                          \n",
            "                                                                                                  \n",
            " conv_block_2 (Conv_block)      (None, 32, 32, 512)  7079424     ['dwt_downsampling_1[0][0]']     \n",
            "                                                                                                  \n",
            " batch_normalization_12 (BatchN  (None, 32, 32, 512)  2048       ['conv_block_2[0][0]']           \n",
            " ormalization)                                                                                    \n",
            "                                                                                                  \n",
            " conv_block_3 (Conv_block)      (None, 32, 32, 512)  7079424     ['batch_normalization_12[0][0]'] \n",
            "                                                                                                  \n",
            " conv2d_16 (Conv2D)             (None, 32, 32, 512)  2359808     ['conv_block_3[0][0]']           \n",
            "                                                                                                  \n",
            " iwt_upsampling (IWT_upsampling  (None, 64, 64, 128)  0          ['conv2d_16[0][0]']              \n",
            " )                                                                                                \n",
            "                                                                                                  \n",
            " add (Add)                      (None, 64, 64, 128)  0           ['iwt_upsampling[0][0]',         \n",
            "                                                                  'conv_block_1[0][0]']           \n",
            "                                                                                                  \n",
            " conv_block_4 (Conv_block)      (None, 64, 64, 128)  442752      ['add[0][0]']                    \n",
            "                                                                                                  \n",
            " conv2d_21 (Conv2D)             (None, 64, 64, 256)  295168      ['conv_block_4[0][0]']           \n",
            "                                                                                                  \n",
            " iwt_upsampling_1 (IWT_upsampli  (None, 128, 128, 64  0          ['conv2d_21[0][0]']              \n",
            " ng)                            )                                                                 \n",
            "                                                                                                  \n",
            " add_1 (Add)                    (None, 128, 128, 64  0           ['iwt_upsampling_1[0][0]',       \n",
            "                                )                                 'conv_block[0][0]']             \n",
            "                                                                                                  \n",
            " conv_block_5 (Conv_block)      (None, 128, 128, 64  110784      ['add_1[0][0]']                  \n",
            "                                )                                                                 \n",
            "                                                                                                  \n",
            " conv2d_26 (Conv2D)             (None, 128, 128, 12  73856       ['conv_block_5[0][0]']           \n",
            "                                8)                                                                \n",
            "                                                                                                  \n",
            " conv2d_27 (Conv2D)             (None, 128, 128, 3)  387         ['conv2d_26[0][0]']              \n",
            "                                                                                                  \n",
            " flatten (Flatten)              (None, 49152)        0           ['conv2d_27[0][0]']              \n",
            "                                                                                                  \n",
            " dense (Dense)                  (None, 1000)         49153000    ['flatten[0][0]']                \n",
            "                                                                                                  \n",
            "==================================================================================================\n",
            "Total params: 67,262,507\n",
            "Trainable params: 67,261,483\n",
            "Non-trainable params: 1,024\n",
            "__________________________________________________________________________________________________\n"
          ]
        }
      ]
    },
    {
      "cell_type": "code",
      "source": [
        "steps_per_epoch_train = len(noisy_train_images)\n",
        "steps_per_epoch_validation = len(noisy_test_images)"
      ],
      "metadata": {
        "id": "JtG3iLAw6awQ"
      },
      "execution_count": null,
      "outputs": []
    },
    {
      "cell_type": "code",
      "source": [
        "callbacks_lst = [\n",
        "    tf.keras.callbacks.ReduceLROnPlateau(monitor='val_loss', min_lr=0.0000009, min_delta=0.0001, factor=0.70, patience=3, verbose=1, mode='min'),\n",
        "    tf.keras.callbacks.EarlyStopping(monitor='val_loss', mode='min', verbose=1, min_delta=0.0001, patience=10)\n",
        "]"
      ],
      "metadata": {
        "id": "IIS6wE6a6gYf"
      },
      "execution_count": null,
      "outputs": []
    },
    {
      "cell_type": "code",
      "source": [
        "model.compile(loss=tf.keras.losses.CategoricalCrossentropy(), optimizer=Adam(learning_rate=0.0009))\n",
        "model.fit(image_generator_train,\n",
        "          validation_data=image_generator_test,\n",
        "                        steps_per_epoch=steps_per_epoch_train,\n",
        "                        validation_steps=steps_per_epoch_validation,\n",
        "                        epochs=100,\n",
        "                        verbose=1,\n",
        "                        callbacks=callbacks_lst)"
      ],
      "metadata": {
        "colab": {
          "base_uri": "https://localhost:8080/"
        },
        "id": "AN5XiSmC6h1P",
        "outputId": "31029a8f-e405-490d-86e7-8cb6456db6fd"
      },
      "execution_count": null,
      "outputs": [
        {
          "output_type": "stream",
          "name": "stdout",
          "text": [
            "Epoch 1/100\n",
            "50/50 [==============================] - 16s 144ms/step - loss: 97.3335 - val_loss: 64.1929 - lr: 9.0000e-04\n",
            "Epoch 2/100\n",
            "50/50 [==============================] - 7s 133ms/step - loss: 64.1852 - val_loss: 64.1815 - lr: 9.0000e-04\n",
            "Epoch 3/100\n",
            "50/50 [==============================] - 7s 135ms/step - loss: 64.1808 - val_loss: 64.1807 - lr: 9.0000e-04\n",
            "Epoch 4/100\n",
            "50/50 [==============================] - 7s 137ms/step - loss: 64.1802 - val_loss: 64.1802 - lr: 9.0000e-04\n",
            "Epoch 5/100\n",
            "50/50 [==============================] - 7s 141ms/step - loss: 64.1799 - val_loss: 64.1799 - lr: 9.0000e-04\n",
            "Epoch 6/100\n",
            "50/50 [==============================] - 7s 140ms/step - loss: 64.1797 - val_loss: 64.1797 - lr: 9.0000e-04\n",
            "Epoch 7/100\n",
            "50/50 [==============================] - 7s 134ms/step - loss: 64.1795 - val_loss: 64.1796 - lr: 9.0000e-04\n",
            "Epoch 8/100\n",
            "50/50 [==============================] - 7s 137ms/step - loss: 64.1795 - val_loss: 64.1795 - lr: 9.0000e-04\n",
            "Epoch 9/100\n",
            "50/50 [==============================] - 7s 133ms/step - loss: 64.1794 - val_loss: 64.1794 - lr: 9.0000e-04\n",
            "Epoch 10/100\n",
            "50/50 [==============================] - 7s 132ms/step - loss: 64.1794 - val_loss: 64.1794 - lr: 9.0000e-04\n",
            "Epoch 11/100\n",
            "50/50 [==============================] - 7s 131ms/step - loss: 64.1793 - val_loss: 64.1794 - lr: 9.0000e-04\n",
            "Epoch 12/100\n",
            "50/50 [==============================] - 7s 133ms/step - loss: 64.1793 - val_loss: 64.1793 - lr: 9.0000e-04\n",
            "Epoch 13/100\n",
            "50/50 [==============================] - 7s 136ms/step - loss: 64.1792 - val_loss: 64.1793 - lr: 9.0000e-04\n",
            "Epoch 14/100\n",
            "50/50 [==============================] - 7s 133ms/step - loss: 64.1792 - val_loss: 64.1793 - lr: 9.0000e-04\n",
            "Epoch 15/100\n",
            "50/50 [==============================] - ETA: 0s - loss: 64.1792\n",
            "Epoch 15: ReduceLROnPlateau reducing learning rate to 0.0006299999891780316.\n",
            "50/50 [==============================] - 7s 133ms/step - loss: 64.1792 - val_loss: 64.1793 - lr: 9.0000e-04\n",
            "Epoch 16/100\n",
            "50/50 [==============================] - 7s 137ms/step - loss: 64.1792 - val_loss: 64.1793 - lr: 6.3000e-04\n",
            "Epoch 17/100\n",
            "50/50 [==============================] - 7s 138ms/step - loss: 64.1792 - val_loss: 64.1793 - lr: 6.3000e-04\n",
            "Epoch 18/100\n",
            "50/50 [==============================] - ETA: 0s - loss: 64.1792\n",
            "Epoch 18: ReduceLROnPlateau reducing learning rate to 0.0004409999761264771.\n",
            "50/50 [==============================] - 7s 138ms/step - loss: 64.1792 - val_loss: 64.1793 - lr: 6.3000e-04\n",
            "Epoch 19/100\n",
            "50/50 [==============================] - 7s 138ms/step - loss: 64.1792 - val_loss: 64.1793 - lr: 4.4100e-04\n",
            "Epoch 20/100\n",
            "50/50 [==============================] - 7s 133ms/step - loss: 64.1792 - val_loss: 64.1792 - lr: 4.4100e-04\n",
            "Epoch 21/100\n",
            "50/50 [==============================] - 7s 137ms/step - loss: 64.1792 - val_loss: 64.1792 - lr: 4.4100e-04\n",
            "Epoch 22/100\n",
            "50/50 [==============================] - 7s 137ms/step - loss: 64.1792 - val_loss: 64.1792 - lr: 4.4100e-04\n",
            "Epoch 23/100\n",
            "50/50 [==============================] - 7s 133ms/step - loss: 64.1792 - val_loss: 64.1792 - lr: 4.4100e-04\n",
            "Epoch 24/100\n",
            "50/50 [==============================] - ETA: 0s - loss: 64.1792\n",
            "Epoch 24: ReduceLROnPlateau reducing learning rate to 0.0003086999873630702.\n",
            "50/50 [==============================] - 7s 133ms/step - loss: 64.1792 - val_loss: 64.1792 - lr: 4.4100e-04\n",
            "Epoch 25/100\n",
            "50/50 [==============================] - 7s 133ms/step - loss: 64.1792 - val_loss: 64.1792 - lr: 3.0870e-04\n",
            "Epoch 26/100\n",
            "50/50 [==============================] - 7s 133ms/step - loss: 64.1792 - val_loss: 64.1792 - lr: 3.0870e-04\n",
            "Epoch 27/100\n",
            "50/50 [==============================] - ETA: 0s - loss: 64.1792\n",
            "Epoch 27: ReduceLROnPlateau reducing learning rate to 0.00021608999522868542.\n",
            "50/50 [==============================] - 7s 133ms/step - loss: 64.1792 - val_loss: 64.1792 - lr: 3.0870e-04\n",
            "Epoch 28/100\n",
            "50/50 [==============================] - 7s 133ms/step - loss: 64.1792 - val_loss: 64.1792 - lr: 2.1609e-04\n",
            "Epoch 29/100\n",
            "50/50 [==============================] - 7s 137ms/step - loss: 64.1792 - val_loss: 64.1792 - lr: 2.1609e-04\n",
            "Epoch 30/100\n",
            "50/50 [==============================] - ETA: 0s - loss: 64.1792\n",
            "Epoch 30: ReduceLROnPlateau reducing learning rate to 0.00015126299258554353.\n",
            "50/50 [==============================] - 7s 133ms/step - loss: 64.1792 - val_loss: 64.1792 - lr: 2.1609e-04\n",
            "Epoch 31/100\n",
            "50/50 [==============================] - 7s 133ms/step - loss: 64.1792 - val_loss: 64.1792 - lr: 1.5126e-04\n",
            "Epoch 31: early stopping\n"
          ]
        },
        {
          "output_type": "execute_result",
          "data": {
            "text/plain": [
              "<keras.callbacks.History at 0x7ff19c0c8a00>"
            ]
          },
          "metadata": {},
          "execution_count": 20
        }
      ]
    },
    {
      "cell_type": "code",
      "source": [
        "best_models_path = \"./\"\n",
        "model.save(best_models_path+\"MWCNN_ablation_l_CC.h5\")"
      ],
      "metadata": {
        "id": "wjdBHgno6jBS"
      },
      "execution_count": null,
      "outputs": []
    },
    {
      "cell_type": "code",
      "source": [
        "best_models_path = \"./\"\n",
        "model = tf.keras.models.load_model(best_models_path+'MWCNN_ablation_l_CC.h5', custom_objects={'DWT_downsampling':DWT_downsampling,\n",
        "                                                                                                        'IWT_upsampling':IWT_upsampling,\n",
        "                                                                                                        'Conv_block':Conv_block})"
      ],
      "metadata": {
        "id": "uhrQQLsXIvXz"
      },
      "execution_count": null,
      "outputs": []
    },
    {
      "cell_type": "code",
      "source": [
        "# Inference\n",
        "def inference_single_image(model, noisy_image):\n",
        "    input_image = np.expand_dims(noisy_image, axis=0)\n",
        "    predicted_image = model.predict(input_image)\n",
        "\n",
        "    return predicted_image[0]\n",
        "\n",
        "def inference_batch_images(model, noisy_images):\n",
        "    predicted_image = model.predict(noisy_images)\n",
        "    return predicted_image"
      ],
      "metadata": {
        "id": "oLNkznGwJBJu"
      },
      "execution_count": null,
      "outputs": []
    },
    {
      "cell_type": "code",
      "source": [
        "def visualize_predictions(model, X_test, y_test, n):\n",
        "    random_numbers = random.choices(range(X_test.shape[0]), k=n)    # Get n random indices\n",
        "    for i in random_numbers:\n",
        "        noisy_image = X_test[i]\n",
        "        gt_image = y_test[i]\n",
        "        predicted_image = inference_single_image(model, X_test[i])\n",
        "        predicted_image/=255\n",
        "\n",
        "        f, axarr = plt.subplots(1,3, figsize=(10,10))\n",
        "        axarr[0].imshow(noisy_image)\n",
        "        axarr[0].set_title(\"Noisy image\")\n",
        "        axarr[0].set_axis_off()\n",
        "        axarr[1].imshow(gt_image)\n",
        "        axarr[1].set_title(\"Ground truth image\")\n",
        "        axarr[1].set_axis_off()\n",
        "        axarr[2].imshow(predicted_image)\n",
        "        axarr[2].set_title(\"Predicted image\")\n",
        "        axarr[2].set_axis_off()\n",
        "\n"
      ],
      "metadata": {
        "id": "Q-TnzefUJDzR"
      },
      "execution_count": null,
      "outputs": []
    },
    {
      "cell_type": "code",
      "source": [
        "from skimage.metrics import peak_signal_noise_ratio\n",
        "\n",
        "predicted_images = inference_batch_images(model, noisy_test_images)\n",
        "psnr_original_mean = 0\n",
        "psnr_prediction_mean = 0\n",
        "\n",
        "for gt_img, noisy_img, predicted_img in zip(gt_test_images, noisy_test_images, predicted_images):\n",
        "    psnr_original_mean += peak_signal_noise_ratio(gt_img, noisy_img)\n",
        "    psnr_prediction_mean += peak_signal_noise_ratio(gt_img, predicted_img)\n",
        "\n",
        "psnr_original_mean/=gt_test_images.shape[0]\n",
        "psnr_prediction_mean/=gt_test_images.shape[0]\n",
        "print(\"Original average gt-noisy PSNR ->\", psnr_original_mean)\n",
        "print(\"Predicted average gt-predicted PSNR ->\", psnr_prediction_mean)"
      ],
      "metadata": {
        "colab": {
          "base_uri": "https://localhost:8080/"
        },
        "id": "zrDJWf8AIyvu",
        "outputId": "59292126-0362-42c3-b4f1-f7c5f4e80efb"
      },
      "execution_count": null,
      "outputs": [
        {
          "output_type": "stream",
          "name": "stdout",
          "text": [
            "1/1 [==============================] - 1s 1s/step\n",
            "Original average gt-noisy PSNR -> 30.25217085992565\n",
            "Predicted average gt-predicted PSNR -> -23.42514451666461\n"
          ]
        }
      ]
    },
    {
      "cell_type": "code",
      "source": [
        "from skimage.metrics import structural_similarity as ssim\n",
        "\n",
        "predicted_images = inference_batch_images(model, noisy_test_images)\n",
        "ssim_original_mean = 0\n",
        "ssim_prediction_mean = 0\n",
        "\n",
        "for gt_img, noisy_img, predicted_img in zip(gt_test_images, noisy_test_images, predicted_images):\n",
        "    ssim_original_mean += ssim(gt_img, noisy_img, multichannel=True, data_range=noisy_img.max() - noisy_img.min())\n",
        "    ssim_prediction_mean += ssim(gt_img, predicted_img, multichannel=True, data_range=predicted_img.max() - predicted_img.min())\n",
        "\n",
        "ssim_original_mean/=gt_test_images.shape[0]\n",
        "ssim_prediction_mean/=gt_test_images.shape[0]\n",
        "print(\"Original average gt-noisy SSIM ->\", ssim_original_mean)\n",
        "print(\"Predicted average gt-predicted SSIM ->\", ssim_prediction_mean)"
      ],
      "metadata": {
        "colab": {
          "base_uri": "https://localhost:8080/"
        },
        "id": "8EZaXAIkI017",
        "outputId": "50c355ed-be3e-4ca6-afde-14ad250b83d0"
      },
      "execution_count": null,
      "outputs": [
        {
          "output_type": "stream",
          "name": "stdout",
          "text": [
            "1/1 [==============================] - 0s 17ms/step\n",
            "Original average gt-noisy SSIM -> 0.5450734549641099\n",
            "Predicted average gt-predicted SSIM -> 0.006487816672051646\n"
          ]
        }
      ]
    },
    {
      "cell_type": "code",
      "source": [],
      "metadata": {
        "id": "kFYr7dhyJEl9"
      },
      "execution_count": null,
      "outputs": []
    },
    {
      "cell_type": "markdown",
      "source": [],
      "metadata": {
        "id": "3XM1ol4Ym_su"
      }
    },
    {
      "cell_type": "code",
      "source": [],
      "metadata": {
        "id": "NrOZT3Goqu1B"
      },
      "execution_count": null,
      "outputs": []
    }
  ]
}